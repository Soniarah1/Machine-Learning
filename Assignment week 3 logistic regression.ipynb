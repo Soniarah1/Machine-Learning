{
 "cells": [
  {
   "cell_type": "code",
   "execution_count": 126,
   "id": "77450263",
   "metadata": {},
   "outputs": [],
   "source": [
    "import numpy as np\n",
    "import pandas as pd\n",
    "import matplotlib.pyplot as plt\n",
    "from sklearn.linear_model import LogisticRegression\n",
    "import sklearn.datasets\n",
    "from sklearn.preprocessing import scale\n",
    "# dummy encoding of categorical features\n",
    "from sklearn.preprocessing import OneHotEncoder\n",
    "from sklearn.compose import make_column_transformer\n",
    "from sklearn.model_selection import train_test_split\n",
    "\n",
    "#from imblearn.under_sampling import RandomUnderSampler"
   ]
  },
  {
   "cell_type": "code",
   "execution_count": 127,
   "id": "a0a2f7f2",
   "metadata": {},
   "outputs": [],
   "source": [
    "df = pd.read_csv('kddcup99_csv.csv')"
   ]
  },
  {
   "cell_type": "code",
   "execution_count": 128,
   "id": "af0f3a57",
   "metadata": {},
   "outputs": [
    {
     "data": {
      "text/html": [
       "<div>\n",
       "<style scoped>\n",
       "    .dataframe tbody tr th:only-of-type {\n",
       "        vertical-align: middle;\n",
       "    }\n",
       "\n",
       "    .dataframe tbody tr th {\n",
       "        vertical-align: top;\n",
       "    }\n",
       "\n",
       "    .dataframe thead th {\n",
       "        text-align: right;\n",
       "    }\n",
       "</style>\n",
       "<table border=\"1\" class=\"dataframe\">\n",
       "  <thead>\n",
       "    <tr style=\"text-align: right;\">\n",
       "      <th></th>\n",
       "      <th>duration</th>\n",
       "      <th>protocol_type</th>\n",
       "      <th>service</th>\n",
       "      <th>flag</th>\n",
       "      <th>src_bytes</th>\n",
       "      <th>dst_bytes</th>\n",
       "      <th>land</th>\n",
       "      <th>wrong_fragment</th>\n",
       "      <th>urgent</th>\n",
       "      <th>hot</th>\n",
       "      <th>...</th>\n",
       "      <th>dst_host_srv_count</th>\n",
       "      <th>dst_host_same_srv_rate</th>\n",
       "      <th>dst_host_diff_srv_rate</th>\n",
       "      <th>dst_host_same_src_port_rate</th>\n",
       "      <th>dst_host_srv_diff_host_rate</th>\n",
       "      <th>dst_host_serror_rate</th>\n",
       "      <th>dst_host_srv_serror_rate</th>\n",
       "      <th>dst_host_rerror_rate</th>\n",
       "      <th>dst_host_srv_rerror_rate</th>\n",
       "      <th>label</th>\n",
       "    </tr>\n",
       "  </thead>\n",
       "  <tbody>\n",
       "    <tr>\n",
       "      <th>0</th>\n",
       "      <td>0</td>\n",
       "      <td>tcp</td>\n",
       "      <td>http</td>\n",
       "      <td>SF</td>\n",
       "      <td>181</td>\n",
       "      <td>5450</td>\n",
       "      <td>0</td>\n",
       "      <td>0</td>\n",
       "      <td>0</td>\n",
       "      <td>0</td>\n",
       "      <td>...</td>\n",
       "      <td>9</td>\n",
       "      <td>1.0</td>\n",
       "      <td>0.0</td>\n",
       "      <td>0.11</td>\n",
       "      <td>0.00</td>\n",
       "      <td>0.00</td>\n",
       "      <td>0.00</td>\n",
       "      <td>0.0</td>\n",
       "      <td>0.0</td>\n",
       "      <td>normal</td>\n",
       "    </tr>\n",
       "    <tr>\n",
       "      <th>1</th>\n",
       "      <td>0</td>\n",
       "      <td>tcp</td>\n",
       "      <td>http</td>\n",
       "      <td>SF</td>\n",
       "      <td>239</td>\n",
       "      <td>486</td>\n",
       "      <td>0</td>\n",
       "      <td>0</td>\n",
       "      <td>0</td>\n",
       "      <td>0</td>\n",
       "      <td>...</td>\n",
       "      <td>19</td>\n",
       "      <td>1.0</td>\n",
       "      <td>0.0</td>\n",
       "      <td>0.05</td>\n",
       "      <td>0.00</td>\n",
       "      <td>0.00</td>\n",
       "      <td>0.00</td>\n",
       "      <td>0.0</td>\n",
       "      <td>0.0</td>\n",
       "      <td>normal</td>\n",
       "    </tr>\n",
       "    <tr>\n",
       "      <th>2</th>\n",
       "      <td>0</td>\n",
       "      <td>tcp</td>\n",
       "      <td>http</td>\n",
       "      <td>SF</td>\n",
       "      <td>235</td>\n",
       "      <td>1337</td>\n",
       "      <td>0</td>\n",
       "      <td>0</td>\n",
       "      <td>0</td>\n",
       "      <td>0</td>\n",
       "      <td>...</td>\n",
       "      <td>29</td>\n",
       "      <td>1.0</td>\n",
       "      <td>0.0</td>\n",
       "      <td>0.03</td>\n",
       "      <td>0.00</td>\n",
       "      <td>0.00</td>\n",
       "      <td>0.00</td>\n",
       "      <td>0.0</td>\n",
       "      <td>0.0</td>\n",
       "      <td>normal</td>\n",
       "    </tr>\n",
       "    <tr>\n",
       "      <th>3</th>\n",
       "      <td>0</td>\n",
       "      <td>tcp</td>\n",
       "      <td>http</td>\n",
       "      <td>SF</td>\n",
       "      <td>219</td>\n",
       "      <td>1337</td>\n",
       "      <td>0</td>\n",
       "      <td>0</td>\n",
       "      <td>0</td>\n",
       "      <td>0</td>\n",
       "      <td>...</td>\n",
       "      <td>39</td>\n",
       "      <td>1.0</td>\n",
       "      <td>0.0</td>\n",
       "      <td>0.03</td>\n",
       "      <td>0.00</td>\n",
       "      <td>0.00</td>\n",
       "      <td>0.00</td>\n",
       "      <td>0.0</td>\n",
       "      <td>0.0</td>\n",
       "      <td>normal</td>\n",
       "    </tr>\n",
       "    <tr>\n",
       "      <th>4</th>\n",
       "      <td>0</td>\n",
       "      <td>tcp</td>\n",
       "      <td>http</td>\n",
       "      <td>SF</td>\n",
       "      <td>217</td>\n",
       "      <td>2032</td>\n",
       "      <td>0</td>\n",
       "      <td>0</td>\n",
       "      <td>0</td>\n",
       "      <td>0</td>\n",
       "      <td>...</td>\n",
       "      <td>49</td>\n",
       "      <td>1.0</td>\n",
       "      <td>0.0</td>\n",
       "      <td>0.02</td>\n",
       "      <td>0.00</td>\n",
       "      <td>0.00</td>\n",
       "      <td>0.00</td>\n",
       "      <td>0.0</td>\n",
       "      <td>0.0</td>\n",
       "      <td>normal</td>\n",
       "    </tr>\n",
       "    <tr>\n",
       "      <th>...</th>\n",
       "      <td>...</td>\n",
       "      <td>...</td>\n",
       "      <td>...</td>\n",
       "      <td>...</td>\n",
       "      <td>...</td>\n",
       "      <td>...</td>\n",
       "      <td>...</td>\n",
       "      <td>...</td>\n",
       "      <td>...</td>\n",
       "      <td>...</td>\n",
       "      <td>...</td>\n",
       "      <td>...</td>\n",
       "      <td>...</td>\n",
       "      <td>...</td>\n",
       "      <td>...</td>\n",
       "      <td>...</td>\n",
       "      <td>...</td>\n",
       "      <td>...</td>\n",
       "      <td>...</td>\n",
       "      <td>...</td>\n",
       "      <td>...</td>\n",
       "    </tr>\n",
       "    <tr>\n",
       "      <th>494015</th>\n",
       "      <td>0</td>\n",
       "      <td>tcp</td>\n",
       "      <td>http</td>\n",
       "      <td>SF</td>\n",
       "      <td>310</td>\n",
       "      <td>1881</td>\n",
       "      <td>0</td>\n",
       "      <td>0</td>\n",
       "      <td>0</td>\n",
       "      <td>0</td>\n",
       "      <td>...</td>\n",
       "      <td>255</td>\n",
       "      <td>1.0</td>\n",
       "      <td>0.0</td>\n",
       "      <td>0.01</td>\n",
       "      <td>0.05</td>\n",
       "      <td>0.00</td>\n",
       "      <td>0.01</td>\n",
       "      <td>0.0</td>\n",
       "      <td>0.0</td>\n",
       "      <td>normal</td>\n",
       "    </tr>\n",
       "    <tr>\n",
       "      <th>494016</th>\n",
       "      <td>0</td>\n",
       "      <td>tcp</td>\n",
       "      <td>http</td>\n",
       "      <td>SF</td>\n",
       "      <td>282</td>\n",
       "      <td>2286</td>\n",
       "      <td>0</td>\n",
       "      <td>0</td>\n",
       "      <td>0</td>\n",
       "      <td>0</td>\n",
       "      <td>...</td>\n",
       "      <td>255</td>\n",
       "      <td>1.0</td>\n",
       "      <td>0.0</td>\n",
       "      <td>0.17</td>\n",
       "      <td>0.05</td>\n",
       "      <td>0.00</td>\n",
       "      <td>0.01</td>\n",
       "      <td>0.0</td>\n",
       "      <td>0.0</td>\n",
       "      <td>normal</td>\n",
       "    </tr>\n",
       "    <tr>\n",
       "      <th>494017</th>\n",
       "      <td>0</td>\n",
       "      <td>tcp</td>\n",
       "      <td>http</td>\n",
       "      <td>SF</td>\n",
       "      <td>203</td>\n",
       "      <td>1200</td>\n",
       "      <td>0</td>\n",
       "      <td>0</td>\n",
       "      <td>0</td>\n",
       "      <td>0</td>\n",
       "      <td>...</td>\n",
       "      <td>255</td>\n",
       "      <td>1.0</td>\n",
       "      <td>0.0</td>\n",
       "      <td>0.06</td>\n",
       "      <td>0.05</td>\n",
       "      <td>0.06</td>\n",
       "      <td>0.01</td>\n",
       "      <td>0.0</td>\n",
       "      <td>0.0</td>\n",
       "      <td>normal</td>\n",
       "    </tr>\n",
       "    <tr>\n",
       "      <th>494018</th>\n",
       "      <td>0</td>\n",
       "      <td>tcp</td>\n",
       "      <td>http</td>\n",
       "      <td>SF</td>\n",
       "      <td>291</td>\n",
       "      <td>1200</td>\n",
       "      <td>0</td>\n",
       "      <td>0</td>\n",
       "      <td>0</td>\n",
       "      <td>0</td>\n",
       "      <td>...</td>\n",
       "      <td>255</td>\n",
       "      <td>1.0</td>\n",
       "      <td>0.0</td>\n",
       "      <td>0.04</td>\n",
       "      <td>0.05</td>\n",
       "      <td>0.04</td>\n",
       "      <td>0.01</td>\n",
       "      <td>0.0</td>\n",
       "      <td>0.0</td>\n",
       "      <td>normal</td>\n",
       "    </tr>\n",
       "    <tr>\n",
       "      <th>494019</th>\n",
       "      <td>0</td>\n",
       "      <td>tcp</td>\n",
       "      <td>http</td>\n",
       "      <td>SF</td>\n",
       "      <td>219</td>\n",
       "      <td>1234</td>\n",
       "      <td>0</td>\n",
       "      <td>0</td>\n",
       "      <td>0</td>\n",
       "      <td>0</td>\n",
       "      <td>...</td>\n",
       "      <td>255</td>\n",
       "      <td>1.0</td>\n",
       "      <td>0.0</td>\n",
       "      <td>0.17</td>\n",
       "      <td>0.05</td>\n",
       "      <td>0.00</td>\n",
       "      <td>0.01</td>\n",
       "      <td>0.0</td>\n",
       "      <td>0.0</td>\n",
       "      <td>normal</td>\n",
       "    </tr>\n",
       "  </tbody>\n",
       "</table>\n",
       "<p>494020 rows × 42 columns</p>\n",
       "</div>"
      ],
      "text/plain": [
       "        duration protocol_type service flag  src_bytes  dst_bytes  land  \\\n",
       "0              0           tcp    http   SF        181       5450     0   \n",
       "1              0           tcp    http   SF        239        486     0   \n",
       "2              0           tcp    http   SF        235       1337     0   \n",
       "3              0           tcp    http   SF        219       1337     0   \n",
       "4              0           tcp    http   SF        217       2032     0   \n",
       "...          ...           ...     ...  ...        ...        ...   ...   \n",
       "494015         0           tcp    http   SF        310       1881     0   \n",
       "494016         0           tcp    http   SF        282       2286     0   \n",
       "494017         0           tcp    http   SF        203       1200     0   \n",
       "494018         0           tcp    http   SF        291       1200     0   \n",
       "494019         0           tcp    http   SF        219       1234     0   \n",
       "\n",
       "        wrong_fragment  urgent  hot  ...  dst_host_srv_count  \\\n",
       "0                    0       0    0  ...                   9   \n",
       "1                    0       0    0  ...                  19   \n",
       "2                    0       0    0  ...                  29   \n",
       "3                    0       0    0  ...                  39   \n",
       "4                    0       0    0  ...                  49   \n",
       "...                ...     ...  ...  ...                 ...   \n",
       "494015               0       0    0  ...                 255   \n",
       "494016               0       0    0  ...                 255   \n",
       "494017               0       0    0  ...                 255   \n",
       "494018               0       0    0  ...                 255   \n",
       "494019               0       0    0  ...                 255   \n",
       "\n",
       "        dst_host_same_srv_rate  dst_host_diff_srv_rate  \\\n",
       "0                          1.0                     0.0   \n",
       "1                          1.0                     0.0   \n",
       "2                          1.0                     0.0   \n",
       "3                          1.0                     0.0   \n",
       "4                          1.0                     0.0   \n",
       "...                        ...                     ...   \n",
       "494015                     1.0                     0.0   \n",
       "494016                     1.0                     0.0   \n",
       "494017                     1.0                     0.0   \n",
       "494018                     1.0                     0.0   \n",
       "494019                     1.0                     0.0   \n",
       "\n",
       "        dst_host_same_src_port_rate  dst_host_srv_diff_host_rate  \\\n",
       "0                              0.11                         0.00   \n",
       "1                              0.05                         0.00   \n",
       "2                              0.03                         0.00   \n",
       "3                              0.03                         0.00   \n",
       "4                              0.02                         0.00   \n",
       "...                             ...                          ...   \n",
       "494015                         0.01                         0.05   \n",
       "494016                         0.17                         0.05   \n",
       "494017                         0.06                         0.05   \n",
       "494018                         0.04                         0.05   \n",
       "494019                         0.17                         0.05   \n",
       "\n",
       "        dst_host_serror_rate  dst_host_srv_serror_rate  dst_host_rerror_rate  \\\n",
       "0                       0.00                      0.00                   0.0   \n",
       "1                       0.00                      0.00                   0.0   \n",
       "2                       0.00                      0.00                   0.0   \n",
       "3                       0.00                      0.00                   0.0   \n",
       "4                       0.00                      0.00                   0.0   \n",
       "...                      ...                       ...                   ...   \n",
       "494015                  0.00                      0.01                   0.0   \n",
       "494016                  0.00                      0.01                   0.0   \n",
       "494017                  0.06                      0.01                   0.0   \n",
       "494018                  0.04                      0.01                   0.0   \n",
       "494019                  0.00                      0.01                   0.0   \n",
       "\n",
       "        dst_host_srv_rerror_rate   label  \n",
       "0                            0.0  normal  \n",
       "1                            0.0  normal  \n",
       "2                            0.0  normal  \n",
       "3                            0.0  normal  \n",
       "4                            0.0  normal  \n",
       "...                          ...     ...  \n",
       "494015                       0.0  normal  \n",
       "494016                       0.0  normal  \n",
       "494017                       0.0  normal  \n",
       "494018                       0.0  normal  \n",
       "494019                       0.0  normal  \n",
       "\n",
       "[494020 rows x 42 columns]"
      ]
     },
     "execution_count": 128,
     "metadata": {},
     "output_type": "execute_result"
    }
   ],
   "source": [
    "df"
   ]
  },
  {
   "cell_type": "code",
   "execution_count": 129,
   "id": "430725e4",
   "metadata": {},
   "outputs": [],
   "source": [
    "y = df.iloc[0:,41].values\n",
    "#X = df.iloc[0:,4:40].values\n",
    "#probe = ['ipsweep.','satan.','nmap.','portsweep.']"
   ]
  },
  {
   "cell_type": "code",
   "execution_count": 130,
   "id": "85836feb",
   "metadata": {
    "scrolled": true
   },
   "outputs": [
    {
     "data": {
      "text/plain": [
       "array([0, 0, 0, ..., 0, 0, 0])"
      ]
     },
     "execution_count": 130,
     "metadata": {},
     "output_type": "execute_result"
    }
   ],
   "source": [
    "y = np.where(y == 'ipsweep', 1, np.where(y == 'satan', 1, np.where(y == 'nmap', 1, np.where(y == 'portsweep', 1, 0))))\n",
    "y"
   ]
  },
  {
   "cell_type": "code",
   "execution_count": 131,
   "id": "ed64bcad",
   "metadata": {},
   "outputs": [],
   "source": [
    "X= df.drop (['label'], axis='columns')"
   ]
  },
  {
   "cell_type": "code",
   "execution_count": 132,
   "id": "8431a9c2",
   "metadata": {
    "scrolled": true
   },
   "outputs": [
    {
     "data": {
      "text/html": [
       "<div>\n",
       "<style scoped>\n",
       "    .dataframe tbody tr th:only-of-type {\n",
       "        vertical-align: middle;\n",
       "    }\n",
       "\n",
       "    .dataframe tbody tr th {\n",
       "        vertical-align: top;\n",
       "    }\n",
       "\n",
       "    .dataframe thead th {\n",
       "        text-align: right;\n",
       "    }\n",
       "</style>\n",
       "<table border=\"1\" class=\"dataframe\">\n",
       "  <thead>\n",
       "    <tr style=\"text-align: right;\">\n",
       "      <th></th>\n",
       "      <th>duration</th>\n",
       "      <th>protocol_type</th>\n",
       "      <th>service</th>\n",
       "      <th>flag</th>\n",
       "      <th>src_bytes</th>\n",
       "      <th>dst_bytes</th>\n",
       "      <th>land</th>\n",
       "      <th>wrong_fragment</th>\n",
       "      <th>urgent</th>\n",
       "      <th>hot</th>\n",
       "      <th>...</th>\n",
       "      <th>dst_host_count</th>\n",
       "      <th>dst_host_srv_count</th>\n",
       "      <th>dst_host_same_srv_rate</th>\n",
       "      <th>dst_host_diff_srv_rate</th>\n",
       "      <th>dst_host_same_src_port_rate</th>\n",
       "      <th>dst_host_srv_diff_host_rate</th>\n",
       "      <th>dst_host_serror_rate</th>\n",
       "      <th>dst_host_srv_serror_rate</th>\n",
       "      <th>dst_host_rerror_rate</th>\n",
       "      <th>dst_host_srv_rerror_rate</th>\n",
       "    </tr>\n",
       "  </thead>\n",
       "  <tbody>\n",
       "    <tr>\n",
       "      <th>0</th>\n",
       "      <td>0</td>\n",
       "      <td>tcp</td>\n",
       "      <td>http</td>\n",
       "      <td>SF</td>\n",
       "      <td>181</td>\n",
       "      <td>5450</td>\n",
       "      <td>0</td>\n",
       "      <td>0</td>\n",
       "      <td>0</td>\n",
       "      <td>0</td>\n",
       "      <td>...</td>\n",
       "      <td>9</td>\n",
       "      <td>9</td>\n",
       "      <td>1.0</td>\n",
       "      <td>0.0</td>\n",
       "      <td>0.11</td>\n",
       "      <td>0.00</td>\n",
       "      <td>0.00</td>\n",
       "      <td>0.00</td>\n",
       "      <td>0.0</td>\n",
       "      <td>0.0</td>\n",
       "    </tr>\n",
       "    <tr>\n",
       "      <th>1</th>\n",
       "      <td>0</td>\n",
       "      <td>tcp</td>\n",
       "      <td>http</td>\n",
       "      <td>SF</td>\n",
       "      <td>239</td>\n",
       "      <td>486</td>\n",
       "      <td>0</td>\n",
       "      <td>0</td>\n",
       "      <td>0</td>\n",
       "      <td>0</td>\n",
       "      <td>...</td>\n",
       "      <td>19</td>\n",
       "      <td>19</td>\n",
       "      <td>1.0</td>\n",
       "      <td>0.0</td>\n",
       "      <td>0.05</td>\n",
       "      <td>0.00</td>\n",
       "      <td>0.00</td>\n",
       "      <td>0.00</td>\n",
       "      <td>0.0</td>\n",
       "      <td>0.0</td>\n",
       "    </tr>\n",
       "    <tr>\n",
       "      <th>2</th>\n",
       "      <td>0</td>\n",
       "      <td>tcp</td>\n",
       "      <td>http</td>\n",
       "      <td>SF</td>\n",
       "      <td>235</td>\n",
       "      <td>1337</td>\n",
       "      <td>0</td>\n",
       "      <td>0</td>\n",
       "      <td>0</td>\n",
       "      <td>0</td>\n",
       "      <td>...</td>\n",
       "      <td>29</td>\n",
       "      <td>29</td>\n",
       "      <td>1.0</td>\n",
       "      <td>0.0</td>\n",
       "      <td>0.03</td>\n",
       "      <td>0.00</td>\n",
       "      <td>0.00</td>\n",
       "      <td>0.00</td>\n",
       "      <td>0.0</td>\n",
       "      <td>0.0</td>\n",
       "    </tr>\n",
       "    <tr>\n",
       "      <th>3</th>\n",
       "      <td>0</td>\n",
       "      <td>tcp</td>\n",
       "      <td>http</td>\n",
       "      <td>SF</td>\n",
       "      <td>219</td>\n",
       "      <td>1337</td>\n",
       "      <td>0</td>\n",
       "      <td>0</td>\n",
       "      <td>0</td>\n",
       "      <td>0</td>\n",
       "      <td>...</td>\n",
       "      <td>39</td>\n",
       "      <td>39</td>\n",
       "      <td>1.0</td>\n",
       "      <td>0.0</td>\n",
       "      <td>0.03</td>\n",
       "      <td>0.00</td>\n",
       "      <td>0.00</td>\n",
       "      <td>0.00</td>\n",
       "      <td>0.0</td>\n",
       "      <td>0.0</td>\n",
       "    </tr>\n",
       "    <tr>\n",
       "      <th>4</th>\n",
       "      <td>0</td>\n",
       "      <td>tcp</td>\n",
       "      <td>http</td>\n",
       "      <td>SF</td>\n",
       "      <td>217</td>\n",
       "      <td>2032</td>\n",
       "      <td>0</td>\n",
       "      <td>0</td>\n",
       "      <td>0</td>\n",
       "      <td>0</td>\n",
       "      <td>...</td>\n",
       "      <td>49</td>\n",
       "      <td>49</td>\n",
       "      <td>1.0</td>\n",
       "      <td>0.0</td>\n",
       "      <td>0.02</td>\n",
       "      <td>0.00</td>\n",
       "      <td>0.00</td>\n",
       "      <td>0.00</td>\n",
       "      <td>0.0</td>\n",
       "      <td>0.0</td>\n",
       "    </tr>\n",
       "    <tr>\n",
       "      <th>...</th>\n",
       "      <td>...</td>\n",
       "      <td>...</td>\n",
       "      <td>...</td>\n",
       "      <td>...</td>\n",
       "      <td>...</td>\n",
       "      <td>...</td>\n",
       "      <td>...</td>\n",
       "      <td>...</td>\n",
       "      <td>...</td>\n",
       "      <td>...</td>\n",
       "      <td>...</td>\n",
       "      <td>...</td>\n",
       "      <td>...</td>\n",
       "      <td>...</td>\n",
       "      <td>...</td>\n",
       "      <td>...</td>\n",
       "      <td>...</td>\n",
       "      <td>...</td>\n",
       "      <td>...</td>\n",
       "      <td>...</td>\n",
       "      <td>...</td>\n",
       "    </tr>\n",
       "    <tr>\n",
       "      <th>494015</th>\n",
       "      <td>0</td>\n",
       "      <td>tcp</td>\n",
       "      <td>http</td>\n",
       "      <td>SF</td>\n",
       "      <td>310</td>\n",
       "      <td>1881</td>\n",
       "      <td>0</td>\n",
       "      <td>0</td>\n",
       "      <td>0</td>\n",
       "      <td>0</td>\n",
       "      <td>...</td>\n",
       "      <td>86</td>\n",
       "      <td>255</td>\n",
       "      <td>1.0</td>\n",
       "      <td>0.0</td>\n",
       "      <td>0.01</td>\n",
       "      <td>0.05</td>\n",
       "      <td>0.00</td>\n",
       "      <td>0.01</td>\n",
       "      <td>0.0</td>\n",
       "      <td>0.0</td>\n",
       "    </tr>\n",
       "    <tr>\n",
       "      <th>494016</th>\n",
       "      <td>0</td>\n",
       "      <td>tcp</td>\n",
       "      <td>http</td>\n",
       "      <td>SF</td>\n",
       "      <td>282</td>\n",
       "      <td>2286</td>\n",
       "      <td>0</td>\n",
       "      <td>0</td>\n",
       "      <td>0</td>\n",
       "      <td>0</td>\n",
       "      <td>...</td>\n",
       "      <td>6</td>\n",
       "      <td>255</td>\n",
       "      <td>1.0</td>\n",
       "      <td>0.0</td>\n",
       "      <td>0.17</td>\n",
       "      <td>0.05</td>\n",
       "      <td>0.00</td>\n",
       "      <td>0.01</td>\n",
       "      <td>0.0</td>\n",
       "      <td>0.0</td>\n",
       "    </tr>\n",
       "    <tr>\n",
       "      <th>494017</th>\n",
       "      <td>0</td>\n",
       "      <td>tcp</td>\n",
       "      <td>http</td>\n",
       "      <td>SF</td>\n",
       "      <td>203</td>\n",
       "      <td>1200</td>\n",
       "      <td>0</td>\n",
       "      <td>0</td>\n",
       "      <td>0</td>\n",
       "      <td>0</td>\n",
       "      <td>...</td>\n",
       "      <td>16</td>\n",
       "      <td>255</td>\n",
       "      <td>1.0</td>\n",
       "      <td>0.0</td>\n",
       "      <td>0.06</td>\n",
       "      <td>0.05</td>\n",
       "      <td>0.06</td>\n",
       "      <td>0.01</td>\n",
       "      <td>0.0</td>\n",
       "      <td>0.0</td>\n",
       "    </tr>\n",
       "    <tr>\n",
       "      <th>494018</th>\n",
       "      <td>0</td>\n",
       "      <td>tcp</td>\n",
       "      <td>http</td>\n",
       "      <td>SF</td>\n",
       "      <td>291</td>\n",
       "      <td>1200</td>\n",
       "      <td>0</td>\n",
       "      <td>0</td>\n",
       "      <td>0</td>\n",
       "      <td>0</td>\n",
       "      <td>...</td>\n",
       "      <td>26</td>\n",
       "      <td>255</td>\n",
       "      <td>1.0</td>\n",
       "      <td>0.0</td>\n",
       "      <td>0.04</td>\n",
       "      <td>0.05</td>\n",
       "      <td>0.04</td>\n",
       "      <td>0.01</td>\n",
       "      <td>0.0</td>\n",
       "      <td>0.0</td>\n",
       "    </tr>\n",
       "    <tr>\n",
       "      <th>494019</th>\n",
       "      <td>0</td>\n",
       "      <td>tcp</td>\n",
       "      <td>http</td>\n",
       "      <td>SF</td>\n",
       "      <td>219</td>\n",
       "      <td>1234</td>\n",
       "      <td>0</td>\n",
       "      <td>0</td>\n",
       "      <td>0</td>\n",
       "      <td>0</td>\n",
       "      <td>...</td>\n",
       "      <td>6</td>\n",
       "      <td>255</td>\n",
       "      <td>1.0</td>\n",
       "      <td>0.0</td>\n",
       "      <td>0.17</td>\n",
       "      <td>0.05</td>\n",
       "      <td>0.00</td>\n",
       "      <td>0.01</td>\n",
       "      <td>0.0</td>\n",
       "      <td>0.0</td>\n",
       "    </tr>\n",
       "  </tbody>\n",
       "</table>\n",
       "<p>494020 rows × 41 columns</p>\n",
       "</div>"
      ],
      "text/plain": [
       "        duration protocol_type service flag  src_bytes  dst_bytes  land  \\\n",
       "0              0           tcp    http   SF        181       5450     0   \n",
       "1              0           tcp    http   SF        239        486     0   \n",
       "2              0           tcp    http   SF        235       1337     0   \n",
       "3              0           tcp    http   SF        219       1337     0   \n",
       "4              0           tcp    http   SF        217       2032     0   \n",
       "...          ...           ...     ...  ...        ...        ...   ...   \n",
       "494015         0           tcp    http   SF        310       1881     0   \n",
       "494016         0           tcp    http   SF        282       2286     0   \n",
       "494017         0           tcp    http   SF        203       1200     0   \n",
       "494018         0           tcp    http   SF        291       1200     0   \n",
       "494019         0           tcp    http   SF        219       1234     0   \n",
       "\n",
       "        wrong_fragment  urgent  hot  ...  dst_host_count  dst_host_srv_count  \\\n",
       "0                    0       0    0  ...               9                   9   \n",
       "1                    0       0    0  ...              19                  19   \n",
       "2                    0       0    0  ...              29                  29   \n",
       "3                    0       0    0  ...              39                  39   \n",
       "4                    0       0    0  ...              49                  49   \n",
       "...                ...     ...  ...  ...             ...                 ...   \n",
       "494015               0       0    0  ...              86                 255   \n",
       "494016               0       0    0  ...               6                 255   \n",
       "494017               0       0    0  ...              16                 255   \n",
       "494018               0       0    0  ...              26                 255   \n",
       "494019               0       0    0  ...               6                 255   \n",
       "\n",
       "        dst_host_same_srv_rate  dst_host_diff_srv_rate  \\\n",
       "0                          1.0                     0.0   \n",
       "1                          1.0                     0.0   \n",
       "2                          1.0                     0.0   \n",
       "3                          1.0                     0.0   \n",
       "4                          1.0                     0.0   \n",
       "...                        ...                     ...   \n",
       "494015                     1.0                     0.0   \n",
       "494016                     1.0                     0.0   \n",
       "494017                     1.0                     0.0   \n",
       "494018                     1.0                     0.0   \n",
       "494019                     1.0                     0.0   \n",
       "\n",
       "        dst_host_same_src_port_rate  dst_host_srv_diff_host_rate  \\\n",
       "0                              0.11                         0.00   \n",
       "1                              0.05                         0.00   \n",
       "2                              0.03                         0.00   \n",
       "3                              0.03                         0.00   \n",
       "4                              0.02                         0.00   \n",
       "...                             ...                          ...   \n",
       "494015                         0.01                         0.05   \n",
       "494016                         0.17                         0.05   \n",
       "494017                         0.06                         0.05   \n",
       "494018                         0.04                         0.05   \n",
       "494019                         0.17                         0.05   \n",
       "\n",
       "        dst_host_serror_rate  dst_host_srv_serror_rate  dst_host_rerror_rate  \\\n",
       "0                       0.00                      0.00                   0.0   \n",
       "1                       0.00                      0.00                   0.0   \n",
       "2                       0.00                      0.00                   0.0   \n",
       "3                       0.00                      0.00                   0.0   \n",
       "4                       0.00                      0.00                   0.0   \n",
       "...                      ...                       ...                   ...   \n",
       "494015                  0.00                      0.01                   0.0   \n",
       "494016                  0.00                      0.01                   0.0   \n",
       "494017                  0.06                      0.01                   0.0   \n",
       "494018                  0.04                      0.01                   0.0   \n",
       "494019                  0.00                      0.01                   0.0   \n",
       "\n",
       "        dst_host_srv_rerror_rate  \n",
       "0                            0.0  \n",
       "1                            0.0  \n",
       "2                            0.0  \n",
       "3                            0.0  \n",
       "4                            0.0  \n",
       "...                          ...  \n",
       "494015                       0.0  \n",
       "494016                       0.0  \n",
       "494017                       0.0  \n",
       "494018                       0.0  \n",
       "494019                       0.0  \n",
       "\n",
       "[494020 rows x 41 columns]"
      ]
     },
     "execution_count": 132,
     "metadata": {},
     "output_type": "execute_result"
    }
   ],
   "source": [
    "X"
   ]
  },
  {
   "cell_type": "code",
   "execution_count": 133,
   "id": "b3cfce9e",
   "metadata": {},
   "outputs": [],
   "source": [
    "column_trans = make_column_transformer(\n",
    "    (OneHotEncoder(), ['protocol_type', 'service', 'flag']),\n",
    "    remainder='passthrough')\n",
    "X1=column_trans.fit_transform(X)\n",
    "\n"
   ]
  },
  {
   "cell_type": "code",
   "execution_count": 134,
   "id": "db332f53",
   "metadata": {},
   "outputs": [
    {
     "data": {
      "text/plain": [
       "array([[0.  , 1.  , 0.  , ..., 0.  , 0.  , 0.  ],\n",
       "       [0.  , 1.  , 0.  , ..., 0.  , 0.  , 0.  ],\n",
       "       [0.  , 1.  , 0.  , ..., 0.  , 0.  , 0.  ],\n",
       "       ...,\n",
       "       [0.  , 1.  , 0.  , ..., 0.01, 0.  , 0.  ],\n",
       "       [0.  , 1.  , 0.  , ..., 0.01, 0.  , 0.  ],\n",
       "       [0.  , 1.  , 0.  , ..., 0.01, 0.  , 0.  ]])"
      ]
     },
     "execution_count": 134,
     "metadata": {},
     "output_type": "execute_result"
    }
   ],
   "source": [
    "X1"
   ]
  },
  {
   "cell_type": "code",
   "execution_count": 135,
   "id": "a7af6dfb",
   "metadata": {
    "scrolled": false
   },
   "outputs": [
    {
     "data": {
      "text/plain": [
       "array([[0., 0., 1., ..., 0., 0., 0.],\n",
       "       [1., 0., 0., ..., 0., 0., 0.],\n",
       "       [0., 1., 0., ..., 1., 0., 0.],\n",
       "       ...,\n",
       "       [1., 0., 0., ..., 0., 0., 0.],\n",
       "       [1., 0., 0., ..., 0., 0., 0.],\n",
       "       [1., 0., 0., ..., 0., 0., 0.]])"
      ]
     },
     "execution_count": 135,
     "metadata": {},
     "output_type": "execute_result"
    }
   ],
   "source": [
    "from sklearn.model_selection import train_test_split\n",
    "X_train, X_test, y_train, y_test = train_test_split(X1,y,train_size=0.8)\n",
    "X_train"
   ]
  },
  {
   "cell_type": "code",
   "execution_count": 180,
   "id": "abe641ad",
   "metadata": {
    "scrolled": true
   },
   "outputs": [
    {
     "data": {
      "text/plain": [
       "0.9911643253309582"
      ]
     },
     "execution_count": 180,
     "metadata": {},
     "output_type": "execute_result"
    }
   ],
   "source": [
    "logreg = LogisticRegression(max_iter=1000000)\n",
    "logreg.fit(X_train, y_train)\n",
    "logreg.score(X_test,y_test)"
   ]
  },
  {
   "cell_type": "code",
   "execution_count": 181,
   "id": "0f6aa854",
   "metadata": {},
   "outputs": [
    {
     "data": {
      "text/plain": [
       "array([86], dtype=int32)"
      ]
     },
     "execution_count": 181,
     "metadata": {},
     "output_type": "execute_result"
    }
   ],
   "source": [
    "logreg.n_iter_"
   ]
  },
  {
   "cell_type": "code",
   "execution_count": 169,
   "id": "9b80e4f8",
   "metadata": {},
   "outputs": [],
   "source": [
    "y_hat = logreg.predict(X_new)\n",
    "accuracy=np.mean(y_hat==y)"
   ]
  },
  {
   "cell_type": "code",
   "execution_count": 138,
   "id": "3e953fd5",
   "metadata": {},
   "outputs": [
    {
     "data": {
      "text/plain": [
       "0.9916400145743087"
      ]
     },
     "execution_count": 138,
     "metadata": {},
     "output_type": "execute_result"
    }
   ],
   "source": [
    "accuracy"
   ]
  },
  {
   "cell_type": "code",
   "execution_count": 149,
   "id": "e11349e2",
   "metadata": {},
   "outputs": [],
   "source": [
    "#Summarize your results. \n",
    "#What is the training accuracy? My training accuracy is 0.9916400145743087 when I ran it. \n",
    "#What is the testing accuracy? The testing accuracy is 0.9911643253309582 after i ran out.\n",
    "#Do you think your model overfits? My model is not overfit because the testing and training acuracies are not \n",
    "#drastically different. They are very similar in the results.\n",
    "\n",
    "#How many iteration did it take to converge? I got 86 iterations. "
   ]
  },
  {
   "cell_type": "code",
   "execution_count": 142,
   "id": "02671f5a",
   "metadata": {
    "scrolled": true
   },
   "outputs": [
    {
     "data": {
      "text/plain": [
       "land                        0\n",
       "dst_host_srv_count          9\n",
       "dst_host_same_srv_rate    1.0\n",
       "srv_count                   8\n",
       "serror_rate               0.0\n",
       "Name: 0, dtype: object"
      ]
     },
     "execution_count": 142,
     "metadata": {},
     "output_type": "execute_result"
    },
    {
     "data": {
      "image/png": "[encoded data removed]",
      "text/plain": [
       "<Figure size 432x288 with 1 Axes>"
      ]
     },
     "metadata": {
      "needs_background": "light"
     },
     "output_type": "display_data"
    }
   ],
   "source": [
    "W=logreg.coef_\n",
    "W=W.flatten()\n",
    "plt.stem(W)\n",
    "idx1=np.argsort(np.abs(W))[-1]\n",
    "idx2=np.argsort(np.abs(W))[-2]\n",
    "idx3=np.argsort(np.abs(W))[-3]\n",
    "idx4=np.argsort(np.abs(W))[-4]\n",
    "idx5=np.argsort(np.abs(W))[-5]\n",
    "heavy = df.iloc[0,[(idx1-76), (idx2-76), (idx3-76), (idx4-76), (idx5-76)]]\n",
    "heavy"
   ]
  },
  {
   "cell_type": "code",
   "execution_count": 144,
   "id": "b1e783cc",
   "metadata": {},
   "outputs": [],
   "source": [
    "#Take a look at the trained model parameters. Which features have the largest weights in absolute value? \n",
    "#land                        \n",
    "#dst_host_srv_count          \n",
    "#dst_host_same_srv_rate    \n",
    "#srv_count                   \n",
    "#serror_rate\n",
    "#The columns above had the largest weights because these happened to be the biggest ones in absolute value.\n",
    "#These are potentially most informative features for the trained model. Do they make sense? Why? \n",
    "#It makes sense because out of all the data these gives a better range that are wide apart rather than being tightly\n",
    "#together. In statistics class, I have learned that if there are different numbers that are not close together it is \n",
    "#distributed with a variety. "
   ]
  },
  {
   "cell_type": "code",
   "execution_count": 151,
   "id": "766c80e5",
   "metadata": {},
   "outputs": [],
   "source": [
    "from sklearn.linear_model import LogisticRegression, Lasso, Ridge"
   ]
  },
  {
   "cell_type": "code",
   "execution_count": 185,
   "id": "48e80bdc",
   "metadata": {
    "scrolled": false
   },
   "outputs": [
    {
     "data": {
      "text/plain": [
       "srv_count               8\n",
       "dst_host_srv_count      9\n",
       "serror_rate           0.0\n",
       "Name: 0, dtype: object"
      ]
     },
     "execution_count": 185,
     "metadata": {},
     "output_type": "execute_result"
    },
    {
     "data": {
      "image/png": "[encoded data removed]",
      "text/plain": [
       "<Figure size 432x288 with 1 Axes>"
      ]
     },
     "metadata": {
      "needs_background": "light"
     },
     "output_type": "display_data"
    }
   ],
   "source": [
    "#L1\n",
    "lasso = Lasso(alpha=0.01)\n",
    "lasso.fit(X_train, y_train)\n",
    "W=lasso.coef_\n",
    "W=W.flatten()\n",
    "plt.stem(W)\n",
    "idx1=np.argsort(np.abs(W))[-1]\n",
    "idx2=np.argsort(np.abs(W))[-2]\n",
    "idx3=np.argsort(np.abs(W))[-3]\n",
    "column1 = df.iloc[0,[(idx1-76), (idx2-76), (idx3-76)]]\n",
    "column1"
   ]
  },
  {
   "cell_type": "code",
   "execution_count": 186,
   "id": "bb7998eb",
   "metadata": {
    "scrolled": true
   },
   "outputs": [
    {
     "data": {
      "text/plain": [
       "0.03770397862616093"
      ]
     },
     "execution_count": 186,
     "metadata": {},
     "output_type": "execute_result"
    }
   ],
   "source": [
    "lasso.score(X_test,y_test)"
   ]
  },
  {
   "cell_type": "code",
   "execution_count": 187,
   "id": "66a50b86",
   "metadata": {},
   "outputs": [
    {
     "data": {
      "text/plain": [
       "0.03873821118486198"
      ]
     },
     "execution_count": 187,
     "metadata": {},
     "output_type": "execute_result"
    }
   ],
   "source": [
    "lasso.score(X_train,y_train)"
   ]
  },
  {
   "cell_type": "code",
   "execution_count": 192,
   "id": "e0c76b38",
   "metadata": {
    "scrolled": true
   },
   "outputs": [
    {
     "data": {
      "text/plain": [
       "dst_host_same_src_port_rate    0.11\n",
       "Name: 0, dtype: object"
      ]
     },
     "execution_count": 192,
     "metadata": {},
     "output_type": "execute_result"
    },
    {
     "data": {
      "image/png": "[encoded data removed]",
      "text/plain": [
       "<Figure size 432x288 with 1 Axes>"
      ]
     },
     "metadata": {
      "needs_background": "light"
     },
     "output_type": "display_data"
    }
   ],
   "source": [
    "#L2\n",
    "ridge = Ridge(alpha=100)\n",
    "ridge.fit(X_train, y_train)\n",
    "W=ridge.coef_\n",
    "W=W.flatten()\n",
    "plt.stem(W)\n",
    "idx1=np.argsort(np.abs(W))[-1]\n",
    "idx2=np.argsort(np.abs(W))[-2]\n",
    "idx3=np.argsort(np.abs(W))[-3]\n",
    "idx4=np.argsort(np.abs(W))[-4]\n",
    "idx5=np.argsort(np.abs(W))[-5]\n",
    "column2 = df.iloc[0,[(idx1-76)]]\n",
    "column2"
   ]
  },
  {
   "cell_type": "code",
   "execution_count": 159,
   "id": "dd562e6a",
   "metadata": {},
   "outputs": [
    {
     "data": {
      "text/plain": [
       "0.7805546094844007"
      ]
     },
     "execution_count": 159,
     "metadata": {},
     "output_type": "execute_result"
    }
   ],
   "source": [
    "ridge.score(X_test,y_test)"
   ]
  },
  {
   "cell_type": "code",
   "execution_count": 160,
   "id": "29d5d133",
   "metadata": {},
   "outputs": [
    {
     "data": {
      "text/plain": [
       "0.7613794062559295"
      ]
     },
     "execution_count": 160,
     "metadata": {},
     "output_type": "execute_result"
    }
   ],
   "source": [
    "ridge.score(X_train,y_train)"
   ]
  },
  {
   "cell_type": "code",
   "execution_count": null,
   "id": "d1578fb1",
   "metadata": {},
   "outputs": [],
   "source": [
    "#As you can see L2 regression is better than L1 because of the accuracy number."
   ]
  },
  {
   "cell_type": "code",
   "execution_count": 162,
   "id": "ef7fc1a2",
   "metadata": {
    "scrolled": true
   },
   "outputs": [
    {
     "data": {
      "text/plain": [
       "dst_host_same_src_port_rate    0.11\n",
       "Name: 0, dtype: object"
      ]
     },
     "execution_count": 162,
     "metadata": {},
     "output_type": "execute_result"
    },
    {
     "data": {
      "image/png": "[encoded data removed]",
      "text/plain": [
       "<Figure size 432x288 with 1 Axes>"
      ]
     },
     "metadata": {
      "needs_background": "light"
     },
     "output_type": "display_data"
    }
   ],
   "source": [
    "#L2\n",
    "ridge = Ridge(alpha=1000)\n",
    "ridge.fit(X_train, y_train)\n",
    "W=ridge.coef_\n",
    "W=W.flatten()\n",
    "plt.stem(W)\n",
    "idx1=np.argsort(np.abs(W))[-1]\n",
    "idx2=np.argsort(np.abs(W))[-2]\n",
    "idx3=np.argsort(np.abs(W))[-3]\n",
    "idx4=np.argsort(np.abs(W))[-4]\n",
    "idx5=np.argsort(np.abs(W))[-5]\n",
    "column2 = df.iloc[0,[(idx1-76)]]\n",
    "column2"
   ]
  },
  {
   "cell_type": "code",
   "execution_count": 163,
   "id": "a7079309",
   "metadata": {},
   "outputs": [
    {
     "data": {
      "text/plain": [
       "0.6884857484306288"
      ]
     },
     "execution_count": 163,
     "metadata": {},
     "output_type": "execute_result"
    }
   ],
   "source": [
    "ridge.score(X_test,y_test)"
   ]
  },
  {
   "cell_type": "code",
   "execution_count": 164,
   "id": "c0230074",
   "metadata": {},
   "outputs": [
    {
     "data": {
      "text/plain": [
       "0.6738133651172131"
      ]
     },
     "execution_count": 164,
     "metadata": {},
     "output_type": "execute_result"
    }
   ],
   "source": [
    "ridge.score(X_train,y_train)"
   ]
  },
  {
   "cell_type": "code",
   "execution_count": 194,
   "id": "092eb1e1",
   "metadata": {
    "scrolled": true
   },
   "outputs": [
    {
     "name": "stderr",
     "output_type": "stream",
     "text": [
      "/Users/soniarahman/opt/anaconda3/lib/python3.8/site-packages/sklearn/linear_model/_ridge.py:147: LinAlgWarning: Ill-conditioned matrix (rcond=2.07345e-20): result may not be accurate.\n",
      "  return linalg.solve(A, Xy, sym_pos=True,\n"
     ]
    },
    {
     "data": {
      "text/plain": [
       "dst_host_srv_serror_rate    0.0\n",
       "Name: 0, dtype: object"
      ]
     },
     "execution_count": 194,
     "metadata": {},
     "output_type": "execute_result"
    },
    {
     "data": {
      "image/png": "[encoded data removed]",
      "text/plain": [
       "<Figure size 432x288 with 1 Axes>"
      ]
     },
     "metadata": {
      "needs_background": "light"
     },
     "output_type": "display_data"
    }
   ],
   "source": [
    "ridge = Ridge(alpha=0.01)\n",
    "ridge.fit(X_train, y_train)\n",
    "W=ridge.coef_\n",
    "W=W.flatten()\n",
    "plt.stem(W)\n",
    "idx1=np.argsort(np.abs(W))[-1]\n",
    "idx2=np.argsort(np.abs(W))[-2]\n",
    "idx3=np.argsort(np.abs(W))[-3]\n",
    "idx4=np.argsort(np.abs(W))[-4]\n",
    "idx5=np.argsort(np.abs(W))[-5]\n",
    "column2 = df.iloc[0,[(idx1-76)]]\n",
    "column2"
   ]
  },
  {
   "cell_type": "code",
   "execution_count": 195,
   "id": "4478507d",
   "metadata": {},
   "outputs": [
    {
     "data": {
      "text/plain": [
       "0.7877726619211161"
      ]
     },
     "execution_count": 195,
     "metadata": {},
     "output_type": "execute_result"
    }
   ],
   "source": [
    "ridge.score(X_test,y_test)"
   ]
  },
  {
   "cell_type": "code",
   "execution_count": 196,
   "id": "fd7ef993",
   "metadata": {},
   "outputs": [
    {
     "data": {
      "text/plain": [
       "0.7702398416472215"
      ]
     },
     "execution_count": 196,
     "metadata": {},
     "output_type": "execute_result"
    }
   ],
   "source": [
    "ridge.score(X_train,y_train)"
   ]
  },
  {
   "cell_type": "code",
   "execution_count": 197,
   "id": "1e3805c2",
   "metadata": {},
   "outputs": [
    {
     "data": {
      "text/plain": [
       "dst_host_same_src_port_rate    0.11\n",
       "Name: 0, dtype: object"
      ]
     },
     "execution_count": 197,
     "metadata": {},
     "output_type": "execute_result"
    },
    {
     "data": {
      "image/png": "[encoded data removed]",
      "text/plain": [
       "<Figure size 432x288 with 1 Axes>"
      ]
     },
     "metadata": {
      "needs_background": "light"
     },
     "output_type": "display_data"
    }
   ],
   "source": [
    "ridge = Ridge(alpha=100)\n",
    "ridge.fit(X_train, y_train)\n",
    "W=ridge.coef_\n",
    "W=W.flatten()\n",
    "plt.stem(W)\n",
    "idx1=np.argsort(np.abs(W))[-1]\n",
    "idx2=np.argsort(np.abs(W))[-2]\n",
    "idx3=np.argsort(np.abs(W))[-3]\n",
    "idx4=np.argsort(np.abs(W))[-4]\n",
    "idx5=np.argsort(np.abs(W))[-5]\n",
    "column2 = df.iloc[0,[(idx1-76)]]\n",
    "column2"
   ]
  },
  {
   "cell_type": "code",
   "execution_count": 198,
   "id": "0e7a2810",
   "metadata": {},
   "outputs": [
    {
     "data": {
      "text/plain": [
       "0.7805546094844007"
      ]
     },
     "execution_count": 198,
     "metadata": {},
     "output_type": "execute_result"
    }
   ],
   "source": [
    "ridge.score(X_test,y_test)"
   ]
  },
  {
   "cell_type": "code",
   "execution_count": 199,
   "id": "0976fac6",
   "metadata": {},
   "outputs": [
    {
     "data": {
      "text/plain": [
       "0.7613794062559295"
      ]
     },
     "execution_count": 199,
     "metadata": {},
     "output_type": "execute_result"
    }
   ],
   "source": [
    "ridge.score(X_train,y_train)"
   ]
  },
  {
   "cell_type": "code",
   "execution_count": 201,
   "id": "b0be6479",
   "metadata": {},
   "outputs": [
    {
     "data": {
      "text/plain": [
       "dst_host_same_src_port_rate    0.11\n",
       "Name: 0, dtype: object"
      ]
     },
     "execution_count": 201,
     "metadata": {},
     "output_type": "execute_result"
    },
    {
     "data": {
      "image/png": "[encoded data removed]",
      "text/plain": [
       "<Figure size 432x288 with 1 Axes>"
      ]
     },
     "metadata": {
      "needs_background": "light"
     },
     "output_type": "display_data"
    }
   ],
   "source": [
    "ridge = Ridge(alpha=1000)\n",
    "ridge.fit(X_train, y_train)\n",
    "W=ridge.coef_\n",
    "W=W.flatten()\n",
    "plt.stem(W)\n",
    "idx1=np.argsort(np.abs(W))[-1]\n",
    "idx2=np.argsort(np.abs(W))[-2]\n",
    "idx3=np.argsort(np.abs(W))[-3]\n",
    "idx4=np.argsort(np.abs(W))[-4]\n",
    "idx5=np.argsort(np.abs(W))[-5]\n",
    "column2 = df.iloc[0,[(idx1-76)]]\n",
    "column2"
   ]
  },
  {
   "cell_type": "code",
   "execution_count": 202,
   "id": "afc1f808",
   "metadata": {
    "scrolled": true
   },
   "outputs": [
    {
     "data": {
      "text/plain": [
       "0.6884857484306288"
      ]
     },
     "execution_count": 202,
     "metadata": {},
     "output_type": "execute_result"
    }
   ],
   "source": [
    "ridge.score(X_test,y_test)"
   ]
  },
  {
   "cell_type": "code",
   "execution_count": 203,
   "id": "628a74db",
   "metadata": {},
   "outputs": [
    {
     "data": {
      "text/plain": [
       "0.6738133651172131"
      ]
     },
     "execution_count": 203,
     "metadata": {},
     "output_type": "execute_result"
    }
   ],
   "source": [
    "ridge.score(X_train,y_train)"
   ]
  },
  {
   "cell_type": "code",
   "execution_count": 204,
   "id": "923295cc",
   "metadata": {},
   "outputs": [
    {
     "name": "stderr",
     "output_type": "stream",
     "text": [
      "/Users/soniarahman/opt/anaconda3/lib/python3.8/site-packages/sklearn/linear_model/_ridge.py:147: LinAlgWarning: Ill-conditioned matrix (rcond=7.04581e-17): result may not be accurate.\n",
      "  return linalg.solve(A, Xy, sym_pos=True,\n"
     ]
    },
    {
     "data": {
      "text/plain": [
       "dst_host_same_src_port_rate    0.11\n",
       "Name: 0, dtype: object"
      ]
     },
     "execution_count": 204,
     "metadata": {},
     "output_type": "execute_result"
    },
    {
     "data": {
      "image/png": "[encoded data removed]",
      "text/plain": [
       "<Figure size 432x288 with 1 Axes>"
      ]
     },
     "metadata": {
      "needs_background": "light"
     },
     "output_type": "display_data"
    }
   ],
   "source": [
    "ridge = Ridge(alpha=50)\n",
    "ridge.fit(X_train, y_train)\n",
    "W=ridge.coef_\n",
    "W=W.flatten()\n",
    "plt.stem(W)\n",
    "idx1=np.argsort(np.abs(W))[-1]\n",
    "idx2=np.argsort(np.abs(W))[-2]\n",
    "idx3=np.argsort(np.abs(W))[-3]\n",
    "idx4=np.argsort(np.abs(W))[-4]\n",
    "idx5=np.argsort(np.abs(W))[-5]\n",
    "column2 = df.iloc[0,[(idx1-76)]]\n",
    "column2"
   ]
  },
  {
   "cell_type": "code",
   "execution_count": 205,
   "id": "c40160a9",
   "metadata": {},
   "outputs": [
    {
     "data": {
      "text/plain": [
       "0.7846153964361366"
      ]
     },
     "execution_count": 205,
     "metadata": {},
     "output_type": "execute_result"
    }
   ],
   "source": [
    "ridge.score(X_test,y_test)"
   ]
  },
  {
   "cell_type": "code",
   "execution_count": 206,
   "id": "c54fd198",
   "metadata": {},
   "outputs": [
    {
     "data": {
      "text/plain": [
       "0.7655723330071387"
      ]
     },
     "execution_count": 206,
     "metadata": {},
     "output_type": "execute_result"
    }
   ],
   "source": [
    "ridge.score(X_train,y_train)"
   ]
  },
  {
   "cell_type": "code",
   "execution_count": 207,
   "id": "6310a1f5",
   "metadata": {},
   "outputs": [],
   "source": [
    "#I got a warning and that the result may not be accurate when I had the alphas as 50 and 0.01. It did not give me an \n",
    "#error when I did 1000 and 100 as the alpha. I noticed the higher the alpha the lower the accuracy. The lower the alpha\n",
    "#the error red sign showed up for me. This is my extrapolation. "
   ]
  }
 ],
 "metadata": {
  "kernelspec": {
   "display_name": "Python 3",
   "language": "python",
   "name": "python3"
  },
  "language_info": {
   "codemirror_mode": {
    "name": "ipython",
    "version": 3
   },
   "file_extension": ".py",
   "mimetype": "text/x-python",
   "name": "python",
   "nbconvert_exporter": "python",
   "pygments_lexer": "ipython3",
   "version": "3.8.8"
  }
 },
 "nbformat": 4,
 "nbformat_minor": 5
}
